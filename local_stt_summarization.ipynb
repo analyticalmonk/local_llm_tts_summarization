{
 "cells": [
  {
   "cell_type": "markdown",
   "metadata": {},
   "source": [
    "Download audio using pytube"
   ]
  },
  {
   "cell_type": "code",
   "execution_count": 2,
   "metadata": {},
   "outputs": [
    {
     "data": {
      "text/plain": [
       "'/home/analyticalmonk/open_source/local_llm_stt_summarization/jeff dean leaders connect bangalore/Leaders Connect with Jeff Dean.mp4'"
      ]
     },
     "execution_count": 2,
     "metadata": {},
     "output_type": "execute_result"
    }
   ],
   "source": [
    "from pytube import YouTube\n",
    "\n",
    "# Enter the URL of the YouTube video\n",
    "video_url = \"https://www.youtube.com/watch?v=lks-x8ZM554\"\n",
    "\n",
    "# Create a YouTube object\n",
    "yt = YouTube(video_url)\n",
    "\n",
    "# Get the audio stream\n",
    "audio_stream = yt.streams.filter(only_audio=True).first()\n",
    "\n",
    "# Download the audio stream\n",
    "video_directory = \"jeff dean leaders connect bangalore\"\n",
    "audio_stream.download(output_path=f\"./{video_directory}\")"
   ]
  },
  {
   "cell_type": "code",
   "execution_count": null,
   "metadata": {},
   "outputs": [],
   "source": []
  }
 ],
 "metadata": {
  "kernelspec": {
   "display_name": "local_llm_stt_summarization",
   "language": "python",
   "name": "python3"
  },
  "language_info": {
   "codemirror_mode": {
    "name": "ipython",
    "version": 3
   },
   "file_extension": ".py",
   "mimetype": "text/x-python",
   "name": "python",
   "nbconvert_exporter": "python",
   "pygments_lexer": "ipython3",
   "version": "3.10.13"
  }
 },
 "nbformat": 4,
 "nbformat_minor": 2
}
